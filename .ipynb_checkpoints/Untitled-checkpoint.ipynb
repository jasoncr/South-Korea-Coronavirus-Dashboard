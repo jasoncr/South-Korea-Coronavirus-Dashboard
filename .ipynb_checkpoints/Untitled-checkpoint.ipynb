{
 "cells": [
  {
   "cell_type": "code",
   "execution_count": 13,
   "metadata": {},
   "outputs": [
    {
     "name": "stdout",
     "output_type": "stream",
     "text": [
      "Collecting psycopg2-binary"
     ]
    },
    {
     "name": "stderr",
     "output_type": "stream",
     "text": [
      "ERROR: Could not install packages due to an EnvironmentError: [WinError 5] Access is denied: 'C:\\\\Users\\\\Jason\\\\anaconda3\\\\envs\\\\PythonData\\\\Lib\\\\site-packages\\\\psycopg2\\\\_psycopg.cp36-win_amd64.pyd'\n",
      "Consider using the `--user` option or check the permissions.\n",
      "\n"
     ]
    },
    {
     "name": "stdout",
     "output_type": "stream",
     "text": [
      "\n",
      "  Downloading psycopg2_binary-2.8.6-cp36-cp36m-win_amd64.whl (1.1 MB)\n",
      "Installing collected packages: psycopg2-binary\n",
      "Collecting flask-sqlalchemy\n",
      "  Downloading Flask_SQLAlchemy-2.4.4-py2.py3-none-any.whl (17 kB)\n",
      "Requirement already satisfied: Flask>=0.10 in c:\\users\\jason\\anaconda3\\envs\\pythondata\\lib\\site-packages (from flask-sqlalchemy) (1.1.2)\n",
      "Requirement already satisfied: SQLAlchemy>=0.8.0 in c:\\users\\jason\\anaconda3\\envs\\pythondata\\lib\\site-packages (from flask-sqlalchemy) (1.3.16)\n",
      "Requirement already satisfied: click>=5.1 in c:\\users\\jason\\anaconda3\\envs\\pythondata\\lib\\site-packages (from Flask>=0.10->flask-sqlalchemy) (7.1.2)\n",
      "Requirement already satisfied: Werkzeug>=0.15 in c:\\users\\jason\\anaconda3\\envs\\pythondata\\lib\\site-packages (from Flask>=0.10->flask-sqlalchemy) (1.0.1)\n",
      "Requirement already satisfied: Jinja2>=2.10.1 in c:\\users\\jason\\anaconda3\\envs\\pythondata\\lib\\site-packages (from Flask>=0.10->flask-sqlalchemy) (2.11.2)\n",
      "Requirement already satisfied: itsdangerous>=0.24 in c:\\users\\jason\\anaconda3\\envs\\pythondata\\lib\\site-packages (from Flask>=0.10->flask-sqlalchemy) (1.1.0)\n",
      "Requirement already satisfied: MarkupSafe>=0.23 in c:\\users\\jason\\anaconda3\\envs\\pythondata\\lib\\site-packages (from Jinja2>=2.10.1->Flask>=0.10->flask-sqlalchemy) (1.1.1)\n",
      "Installing collected packages: flask-sqlalchemy\n",
      "Successfully installed flask-sqlalchemy-2.4.4\n",
      "Collecting Flask-Migrate\n",
      "  Downloading Flask_Migrate-2.5.3-py2.py3-none-any.whl (13 kB)\n",
      "Collecting alembic>=0.7\n",
      "  Downloading alembic-1.4.3-py2.py3-none-any.whl (159 kB)\n",
      "Requirement already satisfied: Flask-SQLAlchemy>=1.0 in c:\\users\\jason\\anaconda3\\envs\\pythondata\\lib\\site-packages (from Flask-Migrate) (2.4.4)\n",
      "Requirement already satisfied: Flask>=0.9 in c:\\users\\jason\\anaconda3\\envs\\pythondata\\lib\\site-packages (from Flask-Migrate) (1.1.2)\n",
      "Collecting python-editor>=0.3\n",
      "  Downloading python_editor-1.0.4-py3-none-any.whl (4.9 kB)\n",
      "Requirement already satisfied: SQLAlchemy>=1.1.0 in c:\\users\\jason\\anaconda3\\envs\\pythondata\\lib\\site-packages (from alembic>=0.7->Flask-Migrate) (1.3.16)\n",
      "Collecting Mako\n",
      "  Downloading Mako-1.1.3-py2.py3-none-any.whl (75 kB)\n",
      "Requirement already satisfied: python-dateutil in c:\\users\\jason\\anaconda3\\envs\\pythondata\\lib\\site-packages (from alembic>=0.7->Flask-Migrate) (2.8.1)\n",
      "Requirement already satisfied: itsdangerous>=0.24 in c:\\users\\jason\\anaconda3\\envs\\pythondata\\lib\\site-packages (from Flask>=0.9->Flask-Migrate) (1.1.0)\n",
      "Requirement already satisfied: Jinja2>=2.10.1 in c:\\users\\jason\\anaconda3\\envs\\pythondata\\lib\\site-packages (from Flask>=0.9->Flask-Migrate) (2.11.2)\n",
      "Requirement already satisfied: Werkzeug>=0.15 in c:\\users\\jason\\anaconda3\\envs\\pythondata\\lib\\site-packages (from Flask>=0.9->Flask-Migrate) (1.0.1)\n",
      "Requirement already satisfied: click>=5.1 in c:\\users\\jason\\anaconda3\\envs\\pythondata\\lib\\site-packages (from Flask>=0.9->Flask-Migrate) (7.1.2)\n",
      "Requirement already satisfied: MarkupSafe>=0.9.2 in c:\\users\\jason\\anaconda3\\envs\\pythondata\\lib\\site-packages (from Mako->alembic>=0.7->Flask-Migrate) (1.1.1)\n",
      "Requirement already satisfied: six>=1.5 in c:\\users\\jason\\anaconda3\\envs\\pythondata\\lib\\site-packages (from python-dateutil->alembic>=0.7->Flask-Migrate) (1.14.0)\n",
      "Installing collected packages: python-editor, Mako, alembic, Flask-Migrate\n",
      "Successfully installed Flask-Migrate-2.5.3 Mako-1.1.3 alembic-1.4.3 python-editor-1.0.4\n"
     ]
    }
   ],
   "source": [
    "!pip install psycopg2-binary\n",
    "!pip install flask-sqlalchemy\n",
    "!pip install Flask-Migrate"
   ]
  },
  {
   "cell_type": "code",
   "execution_count": 81,
   "metadata": {},
   "outputs": [],
   "source": [
    "# import necessary libraries\n",
    "from flask import Flask, render_template\n",
    "from flask_sqlalchemy import SQLAlchemy\n",
    "import psycopg2\n",
    "import sqlalchemy\n",
    "from sqlalchemy.ext.automap import automap_base\n",
    "from sqlalchemy.orm import Session\n",
    "from sqlalchemy import create_engine\n",
    "from sqlalchemy import func\n",
    "import pandas as pd\n",
    "from configs import password\n",
    "from flask_migrate import Migrate\n",
    "import numpy as np\n",
    "import json"
   ]
  },
  {
   "cell_type": "code",
   "execution_count": 187,
   "metadata": {},
   "outputs": [
    {
     "data": {
      "text/plain": [
       "[('Seoul', 1312, 7, 13.037941534713761),\n",
       " ('Busan', 154, 3, 15.168757612667463),\n",
       " ('Daegu', 6906, 189, 14.298354661791592),\n",
       " ('Incheon', 341, 1, 12.61723507917175),\n",
       " ('Gwangju', 44, 0, 14.487515225334946),\n",
       " ('Daejeon', 117, 1, 13.543300852618799),\n",
       " ('Ulsan', 55, 1, 14.438672350791714),\n",
       " ('Gyeonggi-do', 1207, 23, 12.782704019488438),\n",
       " ('Gangwon-do', 65, 3, 13.858099878197304),\n",
       " ('Chungcheongbuk-do', 65, 0, 11.901861042183622),\n",
       " ('Chungcheongnam-do', 167, 0, 12.273606858542577),\n",
       " ('Jeollabuk-do', 27, 0, 13.785809987819729),\n",
       " ('Jeollanam-do', 24, 0, 14.888733252131571),\n",
       " ('Gyeongsangbuk-do', 1389, 54, 13.536163714111195),\n",
       " ('Gyeongsangnam-do', 134, 0, 14.381790499390997),\n",
       " ('Jeju-do', 19, 0, 16.535200974421432)]"
      ]
     },
     "execution_count": 187,
     "metadata": {},
     "output_type": "execute_result"
    }
   ],
   "source": [
    "conn = psycopg2.connect(host=\"localhost\", port = 5432, database=\"S_Korean_Covid_db\", user=\"postgres\", password=password)\n",
    "cur = conn.cursor()\n",
    "\n",
    "cur.execute('''\n",
    "    SELECT time_province.province, time_province.confirmed, time_province.deceased, Avg_temp\n",
    "    FROM time_province\n",
    "    INNER JOIN \n",
    "        (SELECT province, AVG(avg_temp) as Avg_temp\n",
    "            FROM weather\n",
    "            GROUP BY province) weather\n",
    "    ON weather.province = time_province.province\n",
    "    ''')\n",
    "query_results = cur.fetchall()\n",
    "query_results\n",
    "#conn.close()\n"
   ]
  },
  {
   "cell_type": "code",
   "execution_count": 189,
   "metadata": {},
   "outputs": [
    {
     "data": {
      "text/plain": [
       "[('Chunghceongbuk-do', 23.475862068965515),\n",
       " ('Busan', 15.168757612667463),\n",
       " ('Chungcheongnam-do', 12.273606858542577),\n",
       " ('Gwangju', 14.487515225334946),\n",
       " ('Gyeongsangbuk-do', 13.536163714111195),\n",
       " ('Seoul', 13.037941534713761),\n",
       " ('Gyeongsangnam-do', 14.381790499390997),\n",
       " ('Jeollabuk-do', 13.785809987819729),\n",
       " ('Chungcheongbuk-do', 11.901861042183622),\n",
       " ('Daegu', 14.298354661791592),\n",
       " ('Gyeonggi-do', 12.782704019488438),\n",
       " ('Incheon', 12.61723507917175),\n",
       " ('Jeollanam-do', 14.888733252131571),\n",
       " ('Gangwon-do', 13.858099878197304),\n",
       " ('Jeju-do', 16.535200974421432),\n",
       " ('Ulsan', 14.438672350791714),\n",
       " ('Daejeon', 13.543300852618799)]"
      ]
     },
     "execution_count": 189,
     "metadata": {},
     "output_type": "execute_result"
    }
   ],
   "source": [
    "conn = psycopg2.connect(host=\"localhost\", port = 5432, database=\"S_Korean_Covid_db\", user=\"postgres\", password=password)\n",
    "cur = conn.cursor()\n",
    "#print ( conn.get_dsn_parameters(),\"\\n\")\n",
    "\n",
    "cur.execute('''\n",
    "    SELECT province, AVG(avg_temp)\n",
    "    FROM weather\n",
    "    GROUP BY province\n",
    "\n",
    "            ''')\n",
    "query_results = cur.fetchall()\n",
    "query_results"
   ]
  },
  {
   "cell_type": "code",
   "execution_count": 207,
   "metadata": {},
   "outputs": [
    {
     "data": {
      "text/plain": [
       "[('0s', 193, 0),\n",
       " ('10s', 708, 0),\n",
       " ('20s', 3362, 0),\n",
       " ('30s', 1496, 2),\n",
       " ('40s', 1681, 3),\n",
       " ('50s', 2286, 15),\n",
       " ('60s', 1668, 41),\n",
       " ('70s', 850, 82),\n",
       " ('80s', 556, 139)]"
      ]
     },
     "execution_count": 207,
     "metadata": {},
     "output_type": "execute_result"
    }
   ],
   "source": [
    "cur.execute(\"\"\"\n",
    "    SELECT age, confirmed, deceased\n",
    "    FROM time_age\n",
    "    \"\"\")\n",
    "query_results = cur.fetchall()\n",
    "query_results"
   ]
  },
  {
   "cell_type": "code",
   "execution_count": 156,
   "metadata": {},
   "outputs": [],
   "source": [
    "cur.close()"
   ]
  }
 ],
 "metadata": {
  "kernelspec": {
   "display_name": "Python [conda env:PythonData] *",
   "language": "python",
   "name": "conda-env-PythonData-py"
  },
  "language_info": {
   "codemirror_mode": {
    "name": "ipython",
    "version": 3
   },
   "file_extension": ".py",
   "mimetype": "text/x-python",
   "name": "python",
   "nbconvert_exporter": "python",
   "pygments_lexer": "ipython3",
   "version": "3.6.10"
  }
 },
 "nbformat": 4,
 "nbformat_minor": 4
}
